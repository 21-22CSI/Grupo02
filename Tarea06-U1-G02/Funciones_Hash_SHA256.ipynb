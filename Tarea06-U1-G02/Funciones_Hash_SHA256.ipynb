{
  "nbformat": 4,
  "nbformat_minor": 0,
  "metadata": {
    "colab": {
      "name": "Funciones Hash - SHA256.ipynb",
      "provenance": []
    },
    "kernelspec": {
      "name": "python3",
      "display_name": "Python 3"
    },
    "language_info": {
      "name": "python"
    }
  },
  "cells": [
    {
      "cell_type": "markdown",
      "source": [
        "## **Funciones Hash**"
      ],
      "metadata": {
        "id": "tUhgTHDyKlEZ"
      }
    },
    {
      "cell_type": "code",
      "execution_count": 1,
      "metadata": {
        "id": "uukk0XfvKhDu"
      },
      "outputs": [],
      "source": [
        "import hashlib\n",
        "import time"
      ]
    },
    {
      "cell_type": "markdown",
      "source": [
        "# 1. **SHA256**\n"
      ],
      "metadata": {
        "id": "UzDTgFsmRPwK"
      }
    },
    {
      "cell_type": "markdown",
      "source": [
        "#250 palabras"
      ],
      "metadata": {
        "id": "8HFzceSTqvH0"
      }
    },
    {
      "cell_type": "code",
      "source": [
        "inicio = time.time()\n",
        "txt = open(\"/content/txt250.txt\", \"r\").read()\n",
        "fin = time.time()\n",
        "print('Lectura del archivo: ',fin-inicio)"
      ],
      "metadata": {
        "colab": {
          "base_uri": "https://localhost:8080/"
        },
        "id": "SZBImx96KkX4",
        "outputId": "494ed736-038c-4932-a3da-61719331674d"
      },
      "execution_count": 2,
      "outputs": [
        {
          "output_type": "stream",
          "name": "stdout",
          "text": [
            "Lectura del archivo:  0.001893758773803711\n"
          ]
        }
      ]
    },
    {
      "cell_type": "code",
      "source": [
        "h = hashlib.sha256()\n",
        "\n",
        "inicio = time.time()\n",
        "h.update(bytes(txt, encoding = \"utf-8\"))\n",
        "fin = time.time()\n",
        "print('Cifrado del archivo: ',fin-inicio)"
      ],
      "metadata": {
        "colab": {
          "base_uri": "https://localhost:8080/"
        },
        "id": "_PiTGkNJqEhH",
        "outputId": "97e80ef0-6a0d-4be5-de6f-2900b5bb8d0c"
      },
      "execution_count": 3,
      "outputs": [
        {
          "output_type": "stream",
          "name": "stdout",
          "text": [
            "Cifrado del archivo:  0.00011396408081054688\n"
          ]
        }
      ]
    },
    {
      "cell_type": "code",
      "source": [
        "print('SHA256: ',h.hexdigest())"
      ],
      "metadata": {
        "colab": {
          "base_uri": "https://localhost:8080/"
        },
        "id": "jDkAQGQ6qKgm",
        "outputId": "cf57d192-7826-4083-93a6-2d63f17694b5"
      },
      "execution_count": 4,
      "outputs": [
        {
          "output_type": "stream",
          "name": "stdout",
          "text": [
            "SHA256:  a1ad09286e264d5c539a06a46862bcd8fb6406084ff25de9146a6f4368d54f40\n"
          ]
        }
      ]
    },
    {
      "cell_type": "markdown",
      "source": [
        "#500 palabras"
      ],
      "metadata": {
        "id": "C-QHPIB9qzhF"
      }
    },
    {
      "cell_type": "code",
      "source": [
        "inicio = time.time()\n",
        "txt = open(\"/content/txt500.txt\", \"r\").read()\n",
        "fin = time.time()\n",
        "print('Lectura del archivo: ',fin-inicio)"
      ],
      "metadata": {
        "colab": {
          "base_uri": "https://localhost:8080/"
        },
        "id": "IZ0tBnlfRO3r",
        "outputId": "559714df-e49d-4a25-e591-732f1de0cf72"
      },
      "execution_count": 5,
      "outputs": [
        {
          "output_type": "stream",
          "name": "stdout",
          "text": [
            "Lectura del archivo:  0.003397226333618164\n"
          ]
        }
      ]
    },
    {
      "cell_type": "code",
      "source": [
        "h = hashlib.sha256()\n",
        "\n",
        "inicio = time.time()\n",
        "h.update(bytes(txt, encoding = \"utf-8\"))\n",
        "fin = time.time()\n",
        "print('Cifrado del archivo: ',fin-inicio)"
      ],
      "metadata": {
        "colab": {
          "base_uri": "https://localhost:8080/"
        },
        "id": "LL25Q5MRsdxw",
        "outputId": "3eb042c6-0fc8-434b-cf76-388c30b3df96"
      },
      "execution_count": 6,
      "outputs": [
        {
          "output_type": "stream",
          "name": "stdout",
          "text": [
            "Cifrado del archivo:  0.0031349658966064453\n"
          ]
        }
      ]
    },
    {
      "cell_type": "code",
      "source": [
        "print('SHA256: ',h.hexdigest())"
      ],
      "metadata": {
        "colab": {
          "base_uri": "https://localhost:8080/"
        },
        "id": "LcbK5rKMsdlX",
        "outputId": "22fcec88-65e6-4b56-d3cd-b1bb0eec647f"
      },
      "execution_count": 7,
      "outputs": [
        {
          "output_type": "stream",
          "name": "stdout",
          "text": [
            "SHA256:  51d628963e9e3b66b662b6d088ac5dc19675189247c7aed8e15a6cc4b76a908e\n"
          ]
        }
      ]
    },
    {
      "cell_type": "markdown",
      "source": [
        "#1000 palabras"
      ],
      "metadata": {
        "id": "JjhoKGLDrQO9"
      }
    },
    {
      "cell_type": "code",
      "source": [
        "inicio = time.time()\n",
        "txt = open(\"/content/txt1000.txt\", \"r\").read()\n",
        "fin = time.time()\n",
        "print('Lectura del archivo: ',fin-inicio)"
      ],
      "metadata": {
        "colab": {
          "base_uri": "https://localhost:8080/"
        },
        "id": "FXhAW4elRWFC",
        "outputId": "10d8503f-5a19-4259-f255-f7bbe09e9636"
      },
      "execution_count": 8,
      "outputs": [
        {
          "output_type": "stream",
          "name": "stdout",
          "text": [
            "Lectura del archivo:  0.0005557537078857422\n"
          ]
        }
      ]
    },
    {
      "cell_type": "code",
      "source": [
        "h = hashlib.sha256()\n",
        "\n",
        "inicio = time.time()\n",
        "h.update(bytes(txt, encoding = \"utf-8\"))\n",
        "fin = time.time()\n",
        "print('Cifrado del archivo: ',fin-inicio)"
      ],
      "metadata": {
        "colab": {
          "base_uri": "https://localhost:8080/"
        },
        "id": "i2wnTfbntHcj",
        "outputId": "8bea1f18-9ebd-4fbf-b749-90e6d1394cca"
      },
      "execution_count": 9,
      "outputs": [
        {
          "output_type": "stream",
          "name": "stdout",
          "text": [
            "Cifrado del archivo:  0.00014472007751464844\n"
          ]
        }
      ]
    },
    {
      "cell_type": "code",
      "source": [
        "print('SHA256: ',h.hexdigest())"
      ],
      "metadata": {
        "colab": {
          "base_uri": "https://localhost:8080/"
        },
        "id": "VhO0MwmftHUI",
        "outputId": "d62ca211-30b1-4ba8-be01-c94fadf18fe5"
      },
      "execution_count": 10,
      "outputs": [
        {
          "output_type": "stream",
          "name": "stdout",
          "text": [
            "SHA256:  a168c286d42f7e4402fa45eb6d936bbefaa8247ab25d879aae6a7b72fd8a12c1\n"
          ]
        }
      ]
    },
    {
      "cell_type": "markdown",
      "source": [
        "#2000 palabras"
      ],
      "metadata": {
        "id": "Au-B66oJs8Kg"
      }
    },
    {
      "cell_type": "code",
      "source": [
        "inicio = time.time()\n",
        "txt = open(\"/content/txt2000.txt\", \"r\").read()\n",
        "fin = time.time()\n",
        "print('Lectura del archivo: ',fin-inicio)"
      ],
      "metadata": {
        "colab": {
          "base_uri": "https://localhost:8080/"
        },
        "id": "eCxhffPgRml5",
        "outputId": "f3af7be1-aa3a-4ad5-acfb-83c77da40213"
      },
      "execution_count": 11,
      "outputs": [
        {
          "output_type": "stream",
          "name": "stdout",
          "text": [
            "Lectura del archivo:  0.0004286766052246094\n"
          ]
        }
      ]
    },
    {
      "cell_type": "code",
      "source": [
        "h = hashlib.sha256()\n",
        "\n",
        "inicio = time.time()\n",
        "h.update(bytes(txt, encoding = \"utf-8\"))\n",
        "fin = time.time()\n",
        "print('Cifrado del archivo: ',fin-inicio)"
      ],
      "metadata": {
        "colab": {
          "base_uri": "https://localhost:8080/"
        },
        "id": "TZkoCr5muW3J",
        "outputId": "30a41378-26de-41ef-85f8-fe732ece35d3"
      },
      "execution_count": 12,
      "outputs": [
        {
          "output_type": "stream",
          "name": "stdout",
          "text": [
            "Cifrado del archivo:  0.0004944801330566406\n"
          ]
        }
      ]
    },
    {
      "cell_type": "code",
      "source": [
        "print('SHA256: ',h.hexdigest())"
      ],
      "metadata": {
        "colab": {
          "base_uri": "https://localhost:8080/"
        },
        "id": "73elAZk6uWvr",
        "outputId": "f88665b0-ec24-49a7-c956-5632e66e540c"
      },
      "execution_count": 13,
      "outputs": [
        {
          "output_type": "stream",
          "name": "stdout",
          "text": [
            "SHA256:  842d1cb6d9156791128b78f1f975d00ac682f2638689be7aef83d2d6a14f85cf\n"
          ]
        }
      ]
    },
    {
      "cell_type": "markdown",
      "source": [
        "#5000 palabras"
      ],
      "metadata": {
        "id": "gRS8md_Es_mE"
      }
    },
    {
      "cell_type": "code",
      "source": [
        "inicio = time.time()\n",
        "txt = open(\"/content/txt5000.txt\", \"r\").read()\n",
        "fin = time.time()\n",
        "print('Lectura del archivo: ',fin-inicio)"
      ],
      "metadata": {
        "colab": {
          "base_uri": "https://localhost:8080/"
        },
        "id": "FmaDtA_1Ro27",
        "outputId": "97969456-fa5e-4ae7-ed49-c4ae27bda047"
      },
      "execution_count": 14,
      "outputs": [
        {
          "output_type": "stream",
          "name": "stdout",
          "text": [
            "Lectura del archivo:  0.0006041526794433594\n"
          ]
        }
      ]
    },
    {
      "cell_type": "code",
      "source": [
        "h = hashlib.sha256()\n",
        "\n",
        "inicio = time.time()\n",
        "h.update(bytes(txt, encoding = \"utf-8\"))\n",
        "fin = time.time()\n",
        "print('Cifrado del archivo: ',fin-inicio)"
      ],
      "metadata": {
        "colab": {
          "base_uri": "https://localhost:8080/"
        },
        "id": "r3xnAxDbve92",
        "outputId": "2cc5a81b-631d-46c4-a9a1-f95b250645f7"
      },
      "execution_count": 15,
      "outputs": [
        {
          "output_type": "stream",
          "name": "stdout",
          "text": [
            "Cifrado del archivo:  0.00030541419982910156\n"
          ]
        }
      ]
    },
    {
      "cell_type": "code",
      "source": [
        "print('SHA256: ',h.hexdigest())"
      ],
      "metadata": {
        "colab": {
          "base_uri": "https://localhost:8080/"
        },
        "id": "eJf2Fj8yve1o",
        "outputId": "23588b85-5f03-478d-8f1a-2771be7d6048"
      },
      "execution_count": 16,
      "outputs": [
        {
          "output_type": "stream",
          "name": "stdout",
          "text": [
            "SHA256:  b27d3de2078cd472d6244aabc784d2dfacf83e13d3324d68187eb31c50dfbe26\n"
          ]
        }
      ]
    },
    {
      "cell_type": "markdown",
      "source": [
        "#10000 palabras"
      ],
      "metadata": {
        "id": "LocIc62LtCYl"
      }
    },
    {
      "cell_type": "code",
      "source": [
        "inicio = time.time()\n",
        "txt = open(\"/content/txt10000.txt\", \"r\").read()\n",
        "fin = time.time()\n",
        "print('Lectura del archivo: ',fin-inicio)"
      ],
      "metadata": {
        "colab": {
          "base_uri": "https://localhost:8080/"
        },
        "id": "N1BeyFRNRuHc",
        "outputId": "5f3fa78c-8a7e-4206-a996-aa602ff238b4"
      },
      "execution_count": 17,
      "outputs": [
        {
          "output_type": "stream",
          "name": "stdout",
          "text": [
            "Lectura del archivo:  0.0008111000061035156\n"
          ]
        }
      ]
    },
    {
      "cell_type": "code",
      "source": [
        "h = hashlib.sha256()\n",
        "\n",
        "inicio = time.time()\n",
        "h.update(bytes(txt, encoding = \"utf-8\"))\n",
        "fin = time.time()\n",
        "print('Cifrado del archivo: ',fin-inicio)"
      ],
      "metadata": {
        "colab": {
          "base_uri": "https://localhost:8080/"
        },
        "id": "XUiufFGiwypj",
        "outputId": "3d3e2153-1f65-4351-ec95-d0e00ff8fd25"
      },
      "execution_count": 18,
      "outputs": [
        {
          "output_type": "stream",
          "name": "stdout",
          "text": [
            "Cifrado del archivo:  0.0020029544830322266\n"
          ]
        }
      ]
    },
    {
      "cell_type": "code",
      "source": [
        "print('SHA256: ',h.hexdigest())"
      ],
      "metadata": {
        "colab": {
          "base_uri": "https://localhost:8080/"
        },
        "id": "HJtkZG9KwyfY",
        "outputId": "89242058-fc68-48b5-e336-7c4d4505bdf7"
      },
      "execution_count": 19,
      "outputs": [
        {
          "output_type": "stream",
          "name": "stdout",
          "text": [
            "SHA256:  7febf9578746d1856fd58036a9170627d685e601d781c41975fb93b267b6e485\n"
          ]
        }
      ]
    }
  ]
}