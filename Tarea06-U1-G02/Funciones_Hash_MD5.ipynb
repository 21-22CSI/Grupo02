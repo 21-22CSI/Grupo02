{
  "nbformat": 4,
  "nbformat_minor": 0,
  "metadata": {
    "colab": {
      "name": "Funciones Hash - MD5.ipynb",
      "provenance": []
    },
    "kernelspec": {
      "name": "python3",
      "display_name": "Python 3"
    },
    "language_info": {
      "name": "python"
    }
  },
  "cells": [
    {
      "cell_type": "markdown",
      "source": [
        "## **Funciones Hash**"
      ],
      "metadata": {
        "id": "SWWGARiMxkzC"
      }
    },
    {
      "cell_type": "code",
      "source": [
        "import hashlib\n",
        "import time"
      ],
      "metadata": {
        "id": "lHzSd-t313VG"
      },
      "execution_count": 96,
      "outputs": []
    },
    {
      "cell_type": "markdown",
      "source": [
        "# 2. **MD5**"
      ],
      "metadata": {
        "id": "O_ZBHBuoxn6i"
      }
    },
    {
      "cell_type": "markdown",
      "source": [
        "#250 palabras"
      ],
      "metadata": {
        "id": "YVDf6SBixyAi"
      }
    },
    {
      "cell_type": "code",
      "execution_count": 97,
      "metadata": {
        "colab": {
          "base_uri": "https://localhost:8080/"
        },
        "id": "Eni8IWhcpjxA",
        "outputId": "4f230e83-72a8-4c0e-e090-29ab89d723e0"
      },
      "outputs": [
        {
          "output_type": "stream",
          "name": "stdout",
          "text": [
            "Lectura del archivo:  0.0017681121826171875\n"
          ]
        }
      ],
      "source": [
        "inicio = time.time()\n",
        "txt = open(\"/content/txt250.txt\", \"r\").read()\n",
        "fin = time.time()\n",
        "print('Lectura del archivo: ',fin-inicio)"
      ]
    },
    {
      "cell_type": "code",
      "source": [
        "h = hashlib.md5()\n",
        "\n",
        "inicio = time.time()\n",
        "h.update(bytes(txt, encoding = \"utf-8\"))\n",
        "fin = time.time()\n",
        "print('Cifrado del archivo: ',fin-inicio)"
      ],
      "metadata": {
        "colab": {
          "base_uri": "https://localhost:8080/"
        },
        "id": "mvUm6x7Bxyu8",
        "outputId": "24939647-3a3e-41ba-eadf-c79020a08e8b"
      },
      "execution_count": 98,
      "outputs": [
        {
          "output_type": "stream",
          "name": "stdout",
          "text": [
            "Cifrado del archivo:  9.560585021972656e-05\n"
          ]
        }
      ]
    },
    {
      "cell_type": "code",
      "source": [
        "print('MD5: ',h.hexdigest())"
      ],
      "metadata": {
        "colab": {
          "base_uri": "https://localhost:8080/"
        },
        "id": "z-0s6jbVxy__",
        "outputId": "adae51ee-cf88-4af4-dee2-d4cbc3c83294"
      },
      "execution_count": 99,
      "outputs": [
        {
          "output_type": "stream",
          "name": "stdout",
          "text": [
            "MD5:  32150e695817701b6df0e17a011a3cc9\n"
          ]
        }
      ]
    },
    {
      "cell_type": "markdown",
      "source": [
        "#500 palabras"
      ],
      "metadata": {
        "id": "P027RHVUyMNO"
      }
    },
    {
      "cell_type": "code",
      "source": [
        "inicio = time.time()\n",
        "txt = open(\"/content/txt500.txt\", \"r\").read()\n",
        "fin = time.time()\n",
        "print('Lectura del archivo: ',fin-inicio)"
      ],
      "metadata": {
        "colab": {
          "base_uri": "https://localhost:8080/"
        },
        "id": "QqnsriQjyNtq",
        "outputId": "ccc77b8b-19c5-44fe-fe10-f5bf3f0f2bc9"
      },
      "execution_count": 100,
      "outputs": [
        {
          "output_type": "stream",
          "name": "stdout",
          "text": [
            "Lectura del archivo:  0.00052642822265625\n"
          ]
        }
      ]
    },
    {
      "cell_type": "code",
      "source": [
        "h = hashlib.md5()\n",
        "\n",
        "inicio = time.time()\n",
        "h.update(bytes(txt, encoding = \"utf-8\"))\n",
        "fin = time.time()\n",
        "print('Cifrado del archivo: ',fin-inicio)"
      ],
      "metadata": {
        "colab": {
          "base_uri": "https://localhost:8080/"
        },
        "id": "_BmhkUliyOEw",
        "outputId": "0dbf0b6a-888d-47a8-cabd-6d4b3bcce636"
      },
      "execution_count": 101,
      "outputs": [
        {
          "output_type": "stream",
          "name": "stdout",
          "text": [
            "Cifrado del archivo:  0.00010442733764648438\n"
          ]
        }
      ]
    },
    {
      "cell_type": "code",
      "source": [
        "print('MD5: ',h.hexdigest())"
      ],
      "metadata": {
        "colab": {
          "base_uri": "https://localhost:8080/"
        },
        "id": "qMLs5RUpyN3U",
        "outputId": "c976dd90-a051-47bd-d69f-b95cdc62ce9b"
      },
      "execution_count": 102,
      "outputs": [
        {
          "output_type": "stream",
          "name": "stdout",
          "text": [
            "MD5:  c747e99ef14df1754cad509e03a2b1a4\n"
          ]
        }
      ]
    },
    {
      "cell_type": "markdown",
      "source": [
        "#1000 palabras"
      ],
      "metadata": {
        "id": "ASXQwDxzyOzO"
      }
    },
    {
      "cell_type": "code",
      "source": [
        "inicio = time.time()\n",
        "txt = open(\"/content/txt1000.txt\", \"r\").read()\n",
        "fin = time.time()\n",
        "print('Lectura del archivo: ',fin-inicio)"
      ],
      "metadata": {
        "colab": {
          "base_uri": "https://localhost:8080/"
        },
        "id": "NoNQ3ct1yQsY",
        "outputId": "2dacc402-b291-4130-904d-e3c89d881cfa"
      },
      "execution_count": 103,
      "outputs": [
        {
          "output_type": "stream",
          "name": "stdout",
          "text": [
            "Lectura del archivo:  0.0003070831298828125\n"
          ]
        }
      ]
    },
    {
      "cell_type": "code",
      "source": [
        "h = hashlib.md5()\n",
        "\n",
        "inicio = time.time()\n",
        "h.update(bytes(txt, encoding = \"utf-8\"))\n",
        "fin = time.time()\n",
        "print('Cifrado del archivo: ',fin-inicio)"
      ],
      "metadata": {
        "colab": {
          "base_uri": "https://localhost:8080/"
        },
        "id": "RXx_UafpyRAL",
        "outputId": "60e25cb8-3570-4ee2-b3af-38b0ecab9ddf"
      },
      "execution_count": 104,
      "outputs": [
        {
          "output_type": "stream",
          "name": "stdout",
          "text": [
            "Cifrado del archivo:  0.0001308917999267578\n"
          ]
        }
      ]
    },
    {
      "cell_type": "code",
      "source": [
        "print('MD5: ',h.hexdigest())"
      ],
      "metadata": {
        "colab": {
          "base_uri": "https://localhost:8080/"
        },
        "id": "txBWnBeAyQ32",
        "outputId": "30fc5bae-d96d-4b76-fb0b-7e27184497bd"
      },
      "execution_count": 105,
      "outputs": [
        {
          "output_type": "stream",
          "name": "stdout",
          "text": [
            "MD5:  513396b3095e625f1e5ac60cf27f2461\n"
          ]
        }
      ]
    },
    {
      "cell_type": "markdown",
      "source": [
        "#2000 palabras"
      ],
      "metadata": {
        "id": "2o1G-FnkyWtJ"
      }
    },
    {
      "cell_type": "code",
      "source": [
        "inicio = time.time()\n",
        "txt = open(\"/content/txt2000.txt\", \"r\").read()\n",
        "fin = time.time()\n",
        "print('Lectura del archivo: ',fin-inicio)"
      ],
      "metadata": {
        "colab": {
          "base_uri": "https://localhost:8080/"
        },
        "id": "hULRrOj3yYET",
        "outputId": "6e38e7b9-2bcf-45d9-ebf1-379d9ef26158"
      },
      "execution_count": 106,
      "outputs": [
        {
          "output_type": "stream",
          "name": "stdout",
          "text": [
            "Lectura del archivo:  0.0008363723754882812\n"
          ]
        }
      ]
    },
    {
      "cell_type": "code",
      "source": [
        "h = hashlib.md5()\n",
        "\n",
        "inicio = time.time()\n",
        "h.update(bytes(txt, encoding = \"utf-8\"))\n",
        "fin = time.time()\n",
        "print('Cifrado del archivo: ',fin-inicio)"
      ],
      "metadata": {
        "colab": {
          "base_uri": "https://localhost:8080/"
        },
        "id": "iiyskNkKyYV1",
        "outputId": "f4b5490f-9cb3-491a-a305-4b30c32a4145"
      },
      "execution_count": 107,
      "outputs": [
        {
          "output_type": "stream",
          "name": "stdout",
          "text": [
            "Cifrado del archivo:  0.0003390312194824219\n"
          ]
        }
      ]
    },
    {
      "cell_type": "code",
      "source": [
        "\n",
        "print('MD5: ',h.hexdigest())"
      ],
      "metadata": {
        "colab": {
          "base_uri": "https://localhost:8080/"
        },
        "id": "HtG5BwI6yYNK",
        "outputId": "be7a7482-3ff9-4ccf-f633-207b931dc119"
      },
      "execution_count": 108,
      "outputs": [
        {
          "output_type": "stream",
          "name": "stdout",
          "text": [
            "MD5:  4a022433a9a344782dee3b4fd6cb659e\n"
          ]
        }
      ]
    },
    {
      "cell_type": "markdown",
      "source": [
        "#5000 palabras"
      ],
      "metadata": {
        "id": "8mgj8xw7yZVZ"
      }
    },
    {
      "cell_type": "code",
      "source": [
        "inicio = time.time()\n",
        "txt = open(\"/content/txt5000.txt\", \"r\").read()\n",
        "fin = time.time()\n",
        "print('Lectura del archivo: ',fin-inicio)"
      ],
      "metadata": {
        "colab": {
          "base_uri": "https://localhost:8080/"
        },
        "id": "jFk9CsCVyamz",
        "outputId": "8e54167f-cc69-4bd9-887f-865c7381bca9"
      },
      "execution_count": 109,
      "outputs": [
        {
          "output_type": "stream",
          "name": "stdout",
          "text": [
            "Lectura del archivo:  0.0033249855041503906\n"
          ]
        }
      ]
    },
    {
      "cell_type": "code",
      "source": [
        "h = hashlib.md5()\n",
        "\n",
        "inicio = time.time()\n",
        "h.update(bytes(txt, encoding = \"utf-8\"))\n",
        "fin = time.time()\n",
        "print('Cifrado del archivo: ',fin-inicio)"
      ],
      "metadata": {
        "colab": {
          "base_uri": "https://localhost:8080/"
        },
        "id": "4I9m4M_nybL4",
        "outputId": "5124ce8c-0cd3-4038-b86a-9de5ff8b1c82"
      },
      "execution_count": 110,
      "outputs": [
        {
          "output_type": "stream",
          "name": "stdout",
          "text": [
            "Cifrado del archivo:  0.0002410411834716797\n"
          ]
        }
      ]
    },
    {
      "cell_type": "code",
      "source": [
        "print('MD5: ',h.hexdigest())"
      ],
      "metadata": {
        "colab": {
          "base_uri": "https://localhost:8080/"
        },
        "id": "_JYFE-X3ybED",
        "outputId": "2d910d76-29d6-4cb5-eee7-0d24b5184c85"
      },
      "execution_count": 111,
      "outputs": [
        {
          "output_type": "stream",
          "name": "stdout",
          "text": [
            "MD5:  b37a0d0d3ba1b4ff5a0f82b0a395d3ec\n"
          ]
        }
      ]
    },
    {
      "cell_type": "markdown",
      "source": [
        "#10000 palabras"
      ],
      "metadata": {
        "id": "Mw_Z0hi3yb5h"
      }
    },
    {
      "cell_type": "code",
      "source": [
        "inicio = time.time()\n",
        "txt = open(\"/content/txt10000.txt\", \"r\").read()\n",
        "fin = time.time()\n",
        "print('Lectura del archivo: ',fin-inicio)"
      ],
      "metadata": {
        "colab": {
          "base_uri": "https://localhost:8080/"
        },
        "id": "gRKLkbJxydWz",
        "outputId": "18833a9c-a63a-4b3e-af85-8f155def9181"
      },
      "execution_count": 112,
      "outputs": [
        {
          "output_type": "stream",
          "name": "stdout",
          "text": [
            "Lectura del archivo:  0.0004496574401855469\n"
          ]
        }
      ]
    },
    {
      "cell_type": "code",
      "source": [
        "h = hashlib.md5()\n",
        "\n",
        "inicio = time.time()\n",
        "h.update(bytes(txt, encoding = \"utf-8\"))\n",
        "fin = time.time()\n",
        "print('Cifrado del archivo: ',fin-inicio)"
      ],
      "metadata": {
        "colab": {
          "base_uri": "https://localhost:8080/"
        },
        "id": "a7qNgThmydri",
        "outputId": "25fba222-8e0b-49b5-e8e4-488e29230f46"
      },
      "execution_count": 113,
      "outputs": [
        {
          "output_type": "stream",
          "name": "stdout",
          "text": [
            "Cifrado del archivo:  0.0003216266632080078\n"
          ]
        }
      ]
    },
    {
      "cell_type": "code",
      "source": [
        "print('MD5: ',h.hexdigest())"
      ],
      "metadata": {
        "colab": {
          "base_uri": "https://localhost:8080/"
        },
        "id": "cFfeL_4rydja",
        "outputId": "b1a84af8-9da2-4023-b5f0-836dbf5db606"
      },
      "execution_count": 114,
      "outputs": [
        {
          "output_type": "stream",
          "name": "stdout",
          "text": [
            "MD5:  0f268ea16ecdcc43ee493f47f696c2fd\n"
          ]
        }
      ]
    }
  ]
}