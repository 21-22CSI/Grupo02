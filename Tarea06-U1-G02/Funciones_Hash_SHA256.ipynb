{
  "nbformat": 4,
  "nbformat_minor": 0,
  "metadata": {
    "colab": {
      "name": "Funciones Hash - SHA256.ipynb",
      "provenance": []
    },
    "kernelspec": {
      "name": "python3",
      "display_name": "Python 3"
    },
    "language_info": {
      "name": "python"
    }
  },
  "cells": [
    {
      "cell_type": "markdown",
      "source": [
        "## **Funciones Hash**"
      ],
      "metadata": {
        "id": "tUhgTHDyKlEZ"
      }
    },
    {
      "cell_type": "code",
      "execution_count": 65,
      "metadata": {
        "id": "uukk0XfvKhDu"
      },
      "outputs": [],
      "source": [
        "import hashlib\n",
        "import time"
      ]
    },
    {
      "cell_type": "markdown",
      "source": [
        "# 1. **SHA256**\n"
      ],
      "metadata": {
        "id": "UzDTgFsmRPwK"
      }
    },
    {
      "cell_type": "markdown",
      "source": [
        "#250 palabras"
      ],
      "metadata": {
        "id": "8HFzceSTqvH0"
      }
    },
    {
      "cell_type": "code",
      "source": [
        "inicio = time.time()\n",
        "txt = open(\"/content/txt250.txt\", \"r\").read()\n",
        "fin = time.time()\n",
        "print('Lectura del archivo: ',fin-inicio)"
      ],
      "metadata": {
        "colab": {
          "base_uri": "https://localhost:8080/"
        },
        "id": "SZBImx96KkX4",
        "outputId": "36f203a3-96d0-41f0-fe8a-87199cdeb848"
      },
      "execution_count": 66,
      "outputs": [
        {
          "output_type": "stream",
          "name": "stdout",
          "text": [
            "Lectura del archivo:  0.0022478103637695312\n"
          ]
        }
      ]
    },
    {
      "cell_type": "code",
      "source": [
        "h = hashlib.sha256()\n",
        "h.update(bytes(txt, encoding = \"utf-8\"))\n",
        "inicio = time.time()\n",
        "print('SHA256: ',h.hexdigest())\n",
        "fin = time.time()\n",
        "print('Cifrado del archivo: ',fin-inicio)"
      ],
      "metadata": {
        "colab": {
          "base_uri": "https://localhost:8080/"
        },
        "id": "_PiTGkNJqEhH",
        "outputId": "877db90b-1e0b-4c2f-e890-7af189312076"
      },
      "execution_count": 67,
      "outputs": [
        {
          "output_type": "stream",
          "name": "stdout",
          "text": [
            "SHA256:  a1ad09286e264d5c539a06a46862bcd8fb6406084ff25de9146a6f4368d54f40\n",
            "Cifrado del archivo:  0.0033752918243408203\n"
          ]
        }
      ]
    },
    {
      "cell_type": "markdown",
      "source": [
        "#500 palabras"
      ],
      "metadata": {
        "id": "C-QHPIB9qzhF"
      }
    },
    {
      "cell_type": "code",
      "source": [
        "inicio = time.time()\n",
        "txt = open(\"/content/txt500.txt\", \"r\").read()\n",
        "fin = time.time()\n",
        "print('Lectura del archivo: ',fin-inicio)"
      ],
      "metadata": {
        "colab": {
          "base_uri": "https://localhost:8080/"
        },
        "id": "IZ0tBnlfRO3r",
        "outputId": "ed48d41e-bd83-475c-8794-4e4dae8e5306"
      },
      "execution_count": 68,
      "outputs": [
        {
          "output_type": "stream",
          "name": "stdout",
          "text": [
            "Lectura del archivo:  0.00034332275390625\n"
          ]
        }
      ]
    },
    {
      "cell_type": "code",
      "source": [
        "h = hashlib.sha256()\n",
        "h.update(bytes(txt, encoding = \"utf-8\"))\n",
        "inicio = time.time()\n",
        "print('SHA256: ',h.hexdigest())\n",
        "fin = time.time()\n",
        "print('Cifrado del archivo: ',fin-inicio)"
      ],
      "metadata": {
        "colab": {
          "base_uri": "https://localhost:8080/"
        },
        "id": "LL25Q5MRsdxw",
        "outputId": "2019551c-9d2a-416f-bcba-20b4e2894c7e"
      },
      "execution_count": 69,
      "outputs": [
        {
          "output_type": "stream",
          "name": "stdout",
          "text": [
            "SHA256:  51d628963e9e3b66b662b6d088ac5dc19675189247c7aed8e15a6cc4b76a908e\n",
            "Cifrado del archivo:  0.00026679039001464844\n"
          ]
        }
      ]
    },
    {
      "cell_type": "markdown",
      "source": [
        "#1000 palabras"
      ],
      "metadata": {
        "id": "JjhoKGLDrQO9"
      }
    },
    {
      "cell_type": "code",
      "source": [
        "inicio = time.time()\n",
        "txt = open(\"/content/txt1000.txt\", \"r\").read()\n",
        "fin = time.time()\n",
        "print('Lectura del archivo: ',fin-inicio)"
      ],
      "metadata": {
        "colab": {
          "base_uri": "https://localhost:8080/"
        },
        "id": "FXhAW4elRWFC",
        "outputId": "62591e69-f44c-4d7a-db69-0e746ce3ec96"
      },
      "execution_count": 70,
      "outputs": [
        {
          "output_type": "stream",
          "name": "stdout",
          "text": [
            "Lectura del archivo:  0.0003192424774169922\n"
          ]
        }
      ]
    },
    {
      "cell_type": "code",
      "source": [
        "h = hashlib.sha256()\n",
        "h.update(bytes(txt, encoding = \"utf-8\"))\n",
        "inicio = time.time()\n",
        "print('SHA256: ',h.hexdigest())\n",
        "fin = time.time()\n",
        "print('Cifrado del archivo: ',fin-inicio)"
      ],
      "metadata": {
        "colab": {
          "base_uri": "https://localhost:8080/"
        },
        "id": "i2wnTfbntHcj",
        "outputId": "f1c44b28-61da-4e8b-cab4-c8f071574d4d"
      },
      "execution_count": 71,
      "outputs": [
        {
          "output_type": "stream",
          "name": "stdout",
          "text": [
            "SHA256:  a168c286d42f7e4402fa45eb6d936bbefaa8247ab25d879aae6a7b72fd8a12c1\n",
            "Cifrado del archivo:  0.00017833709716796875\n"
          ]
        }
      ]
    },
    {
      "cell_type": "markdown",
      "source": [
        "#2000 palabras"
      ],
      "metadata": {
        "id": "Au-B66oJs8Kg"
      }
    },
    {
      "cell_type": "code",
      "source": [
        "inicio = time.time()\n",
        "txt = open(\"/content/txt2000.txt\", \"r\").read()\n",
        "fin = time.time()\n",
        "print('Lectura del archivo: ',fin-inicio)"
      ],
      "metadata": {
        "colab": {
          "base_uri": "https://localhost:8080/"
        },
        "id": "eCxhffPgRml5",
        "outputId": "52ee154b-3713-4739-e958-ddc2a6874613"
      },
      "execution_count": 72,
      "outputs": [
        {
          "output_type": "stream",
          "name": "stdout",
          "text": [
            "Lectura del archivo:  0.00048065185546875\n"
          ]
        }
      ]
    },
    {
      "cell_type": "code",
      "source": [
        "h = hashlib.sha256()\n",
        "h.update(bytes(txt, encoding = \"utf-8\"))\n",
        "inicio = time.time()\n",
        "print('SHA256: ',h.hexdigest())\n",
        "fin = time.time()\n",
        "print('Cifrado del archivo: ',fin-inicio)"
      ],
      "metadata": {
        "colab": {
          "base_uri": "https://localhost:8080/"
        },
        "id": "TZkoCr5muW3J",
        "outputId": "2febe859-481d-4547-a21f-27bc1e710eaf"
      },
      "execution_count": 73,
      "outputs": [
        {
          "output_type": "stream",
          "name": "stdout",
          "text": [
            "SHA256:  842d1cb6d9156791128b78f1f975d00ac682f2638689be7aef83d2d6a14f85cf\n",
            "Cifrado del archivo:  0.0001621246337890625\n"
          ]
        }
      ]
    },
    {
      "cell_type": "markdown",
      "source": [
        "#5000 palabras"
      ],
      "metadata": {
        "id": "gRS8md_Es_mE"
      }
    },
    {
      "cell_type": "code",
      "source": [
        "inicio = time.time()\n",
        "txt = open(\"/content/txt5000.txt\", \"r\").read()\n",
        "fin = time.time()\n",
        "print('Lectura del archivo: ',fin-inicio)"
      ],
      "metadata": {
        "colab": {
          "base_uri": "https://localhost:8080/"
        },
        "id": "FmaDtA_1Ro27",
        "outputId": "64173f0b-b5da-44cc-f102-7e2083acd800"
      },
      "execution_count": 74,
      "outputs": [
        {
          "output_type": "stream",
          "name": "stdout",
          "text": [
            "Lectura del archivo:  0.0003342628479003906\n"
          ]
        }
      ]
    },
    {
      "cell_type": "code",
      "source": [
        "h = hashlib.sha256()\n",
        "h.update(bytes(txt, encoding = \"utf-8\"))\n",
        "inicio = time.time()\n",
        "print('SHA256: ',h.hexdigest())\n",
        "fin = time.time()\n",
        "print('Cifrado del archivo: ',fin-inicio)"
      ],
      "metadata": {
        "colab": {
          "base_uri": "https://localhost:8080/"
        },
        "id": "r3xnAxDbve92",
        "outputId": "47fbcb9d-a0ad-4c7a-96a9-6f30b057b6e0"
      },
      "execution_count": 75,
      "outputs": [
        {
          "output_type": "stream",
          "name": "stdout",
          "text": [
            "SHA256:  b27d3de2078cd472d6244aabc784d2dfacf83e13d3324d68187eb31c50dfbe26\n",
            "Cifrado del archivo:  0.0001819133758544922\n"
          ]
        }
      ]
    },
    {
      "cell_type": "markdown",
      "source": [
        "#10000 palabras"
      ],
      "metadata": {
        "id": "LocIc62LtCYl"
      }
    },
    {
      "cell_type": "code",
      "source": [
        "inicio = time.time()\n",
        "txt = open(\"/content/txt10000.txt\", \"r\").read()\n",
        "fin = time.time()\n",
        "print('Lectura del archivo: ',fin-inicio)"
      ],
      "metadata": {
        "colab": {
          "base_uri": "https://localhost:8080/"
        },
        "id": "N1BeyFRNRuHc",
        "outputId": "9cb22a75-9c0f-4420-ac4b-024cca84247c"
      },
      "execution_count": 76,
      "outputs": [
        {
          "output_type": "stream",
          "name": "stdout",
          "text": [
            "Lectura del archivo:  0.00040340423583984375\n"
          ]
        }
      ]
    },
    {
      "cell_type": "code",
      "source": [
        "h = hashlib.sha256()\n",
        "h.update(bytes(txt, encoding = \"utf-8\"))\n",
        "inicio = time.time()\n",
        "print('SHA256: ',h.hexdigest())\n",
        "fin = time.time()\n",
        "print('Cifrado del archivo: ',fin-inicio)"
      ],
      "metadata": {
        "colab": {
          "base_uri": "https://localhost:8080/"
        },
        "id": "XUiufFGiwypj",
        "outputId": "52786771-4082-4eb1-be38-511108b882e5"
      },
      "execution_count": 77,
      "outputs": [
        {
          "output_type": "stream",
          "name": "stdout",
          "text": [
            "SHA256:  7febf9578746d1856fd58036a9170627d685e601d781c41975fb93b267b6e485\n",
            "Cifrado del archivo:  0.0002224445343017578\n"
          ]
        }
      ]
    }
  ]
}