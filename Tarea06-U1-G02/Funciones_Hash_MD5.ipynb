{
  "nbformat": 4,
  "nbformat_minor": 0,
  "metadata": {
    "colab": {
      "name": "Funciones Hash - MD5.ipynb",
      "provenance": []
    },
    "kernelspec": {
      "name": "python3",
      "display_name": "Python 3"
    },
    "language_info": {
      "name": "python"
    }
  },
  "cells": [
    {
      "cell_type": "markdown",
      "source": [
        "## **Funciones Hash**"
      ],
      "metadata": {
        "id": "SWWGARiMxkzC"
      }
    },
    {
      "cell_type": "code",
      "source": [
        "import hashlib\n",
        "import time"
      ],
      "metadata": {
        "id": "lHzSd-t313VG"
      },
      "execution_count": 14,
      "outputs": []
    },
    {
      "cell_type": "markdown",
      "source": [
        "# 2. **MD5**"
      ],
      "metadata": {
        "id": "O_ZBHBuoxn6i"
      }
    },
    {
      "cell_type": "markdown",
      "source": [
        "#250 palabras"
      ],
      "metadata": {
        "id": "YVDf6SBixyAi"
      }
    },
    {
      "cell_type": "code",
      "execution_count": 15,
      "metadata": {
        "colab": {
          "base_uri": "https://localhost:8080/"
        },
        "id": "Eni8IWhcpjxA",
        "outputId": "94338f8f-954a-483e-cce8-82c77a23ca84"
      },
      "outputs": [
        {
          "output_type": "stream",
          "name": "stdout",
          "text": [
            "Lectura del archivo:  0.0043408870697021484\n"
          ]
        }
      ],
      "source": [
        "inicio = time.time()\n",
        "txt = open(\"/content/txt250.txt\", \"r\").read()\n",
        "fin = time.time()\n",
        "print('Lectura del archivo: ',fin-inicio)"
      ]
    },
    {
      "cell_type": "code",
      "source": [
        "h = hashlib.md5()\n",
        "h.update(bytes(txt, encoding = \"utf-8\"))\n",
        "inicio = time.time()\n",
        "print('MD5: ',h.hexdigest())\n",
        "fin = time.time()\n",
        "print('Cifrado del archivo: ',fin-inicio)"
      ],
      "metadata": {
        "colab": {
          "base_uri": "https://localhost:8080/"
        },
        "id": "mvUm6x7Bxyu8",
        "outputId": "9e120029-659c-4b02-a62d-72882de12ca3"
      },
      "execution_count": 16,
      "outputs": [
        {
          "output_type": "stream",
          "name": "stdout",
          "text": [
            "MD5:  32150e695817701b6df0e17a011a3cc9\n",
            "Cifrado del archivo:  0.0023887157440185547\n"
          ]
        }
      ]
    },
    {
      "cell_type": "markdown",
      "source": [
        "#500 palabras"
      ],
      "metadata": {
        "id": "P027RHVUyMNO"
      }
    },
    {
      "cell_type": "code",
      "source": [
        "inicio = time.time()\n",
        "txt = open(\"/content/txt500.txt\", \"r\").read()\n",
        "fin = time.time()\n",
        "print('Lectura del archivo: ',fin-inicio)"
      ],
      "metadata": {
        "colab": {
          "base_uri": "https://localhost:8080/"
        },
        "id": "QqnsriQjyNtq",
        "outputId": "702cdcca-0050-422d-fc52-cf4319c8c42b"
      },
      "execution_count": 17,
      "outputs": [
        {
          "output_type": "stream",
          "name": "stdout",
          "text": [
            "Lectura del archivo:  0.0002593994140625\n"
          ]
        }
      ]
    },
    {
      "cell_type": "code",
      "source": [
        "h = hashlib.md5()\n",
        "h.update(bytes(txt, encoding = \"utf-8\"))\n",
        "inicio = time.time()\n",
        "print('MD5: ',h.hexdigest())\n",
        "fin = time.time()\n",
        "print('Cifrado del archivo: ',fin-inicio)"
      ],
      "metadata": {
        "colab": {
          "base_uri": "https://localhost:8080/"
        },
        "id": "_BmhkUliyOEw",
        "outputId": "aebd6dc2-0cc9-42bf-fe0e-fd813b08473c"
      },
      "execution_count": 18,
      "outputs": [
        {
          "output_type": "stream",
          "name": "stdout",
          "text": [
            "MD5:  c747e99ef14df1754cad509e03a2b1a4\n",
            "Cifrado del archivo:  0.00022983551025390625\n"
          ]
        }
      ]
    },
    {
      "cell_type": "markdown",
      "source": [
        "#1000 palabras"
      ],
      "metadata": {
        "id": "ASXQwDxzyOzO"
      }
    },
    {
      "cell_type": "code",
      "source": [
        "inicio = time.time()\n",
        "txt = open(\"/content/txt1000.txt\", \"r\").read()\n",
        "fin = time.time()\n",
        "print('Lectura del archivo: ',fin-inicio)"
      ],
      "metadata": {
        "colab": {
          "base_uri": "https://localhost:8080/"
        },
        "id": "NoNQ3ct1yQsY",
        "outputId": "0eb2d672-119d-42f3-e350-f5fe65c75ced"
      },
      "execution_count": 19,
      "outputs": [
        {
          "output_type": "stream",
          "name": "stdout",
          "text": [
            "Lectura del archivo:  0.005880832672119141\n"
          ]
        }
      ]
    },
    {
      "cell_type": "code",
      "source": [
        "h = hashlib.md5()\n",
        "h.update(bytes(txt, encoding = \"utf-8\"))\n",
        "inicio = time.time()\n",
        "print('MD5: ',h.hexdigest())\n",
        "fin = time.time()\n",
        "print('Cifrado del archivo: ',fin-inicio)"
      ],
      "metadata": {
        "colab": {
          "base_uri": "https://localhost:8080/"
        },
        "id": "RXx_UafpyRAL",
        "outputId": "ea4d80c4-d962-4126-e5bb-d91d37819c57"
      },
      "execution_count": 20,
      "outputs": [
        {
          "output_type": "stream",
          "name": "stdout",
          "text": [
            "MD5:  513396b3095e625f1e5ac60cf27f2461\n",
            "Cifrado del archivo:  0.0001773834228515625\n"
          ]
        }
      ]
    },
    {
      "cell_type": "markdown",
      "source": [
        "#2000 palabras"
      ],
      "metadata": {
        "id": "2o1G-FnkyWtJ"
      }
    },
    {
      "cell_type": "code",
      "source": [
        "inicio = time.time()\n",
        "txt = open(\"/content/txt2000.txt\", \"r\").read()\n",
        "fin = time.time()\n",
        "print('Lectura del archivo: ',fin-inicio)"
      ],
      "metadata": {
        "colab": {
          "base_uri": "https://localhost:8080/"
        },
        "id": "hULRrOj3yYET",
        "outputId": "6981a475-e19e-4044-f39c-05371acbf6c8"
      },
      "execution_count": 21,
      "outputs": [
        {
          "output_type": "stream",
          "name": "stdout",
          "text": [
            "Lectura del archivo:  0.0003743171691894531\n"
          ]
        }
      ]
    },
    {
      "cell_type": "code",
      "source": [
        "h = hashlib.md5()\n",
        "h.update(bytes(txt, encoding = \"utf-8\"))\n",
        "inicio = time.time()\n",
        "print('MD5: ',h.hexdigest())\n",
        "fin = time.time()\n",
        "print('Cifrado del archivo: ',fin-inicio)"
      ],
      "metadata": {
        "colab": {
          "base_uri": "https://localhost:8080/"
        },
        "id": "iiyskNkKyYV1",
        "outputId": "262a6d51-e401-4c32-b313-13afceeee2d1"
      },
      "execution_count": 22,
      "outputs": [
        {
          "output_type": "stream",
          "name": "stdout",
          "text": [
            "MD5:  4a022433a9a344782dee3b4fd6cb659e\n",
            "Cifrado del archivo:  0.00022530555725097656\n"
          ]
        }
      ]
    },
    {
      "cell_type": "markdown",
      "source": [
        "#5000 palabras"
      ],
      "metadata": {
        "id": "8mgj8xw7yZVZ"
      }
    },
    {
      "cell_type": "code",
      "source": [
        "inicio = time.time()\n",
        "txt = open(\"/content/txt5000.txt\", \"r\").read()\n",
        "fin = time.time()\n",
        "print('Lectura del archivo: ',fin-inicio)"
      ],
      "metadata": {
        "colab": {
          "base_uri": "https://localhost:8080/"
        },
        "id": "jFk9CsCVyamz",
        "outputId": "fdbf3196-e299-41fa-f91b-4e6b25ba5b25"
      },
      "execution_count": 23,
      "outputs": [
        {
          "output_type": "stream",
          "name": "stdout",
          "text": [
            "Lectura del archivo:  0.0024962425231933594\n"
          ]
        }
      ]
    },
    {
      "cell_type": "code",
      "source": [
        "h = hashlib.md5()\n",
        "h.update(bytes(txt, encoding = \"utf-8\"))\n",
        "inicio = time.time()\n",
        "print('MD5: ',h.hexdigest())\n",
        "fin = time.time()\n",
        "print('Cifrado del archivo: ',fin-inicio)"
      ],
      "metadata": {
        "colab": {
          "base_uri": "https://localhost:8080/"
        },
        "id": "4I9m4M_nybL4",
        "outputId": "af32f7a4-c5ce-412c-802b-779471e637dd"
      },
      "execution_count": 24,
      "outputs": [
        {
          "output_type": "stream",
          "name": "stdout",
          "text": [
            "MD5:  b37a0d0d3ba1b4ff5a0f82b0a395d3ec\n",
            "Cifrado del archivo:  0.0008535385131835938\n"
          ]
        }
      ]
    },
    {
      "cell_type": "markdown",
      "source": [
        "#10000 palabras"
      ],
      "metadata": {
        "id": "Mw_Z0hi3yb5h"
      }
    },
    {
      "cell_type": "code",
      "source": [
        "inicio = time.time()\n",
        "txt = open(\"/content/txt10000.txt\", \"r\").read()\n",
        "fin = time.time()\n",
        "print('Lectura del archivo: ',fin-inicio)"
      ],
      "metadata": {
        "colab": {
          "base_uri": "https://localhost:8080/"
        },
        "id": "gRKLkbJxydWz",
        "outputId": "7d874ec3-4c17-48bb-fc67-6b5777cf0e3f"
      },
      "execution_count": 25,
      "outputs": [
        {
          "output_type": "stream",
          "name": "stdout",
          "text": [
            "Lectura del archivo:  0.00047469139099121094\n"
          ]
        }
      ]
    },
    {
      "cell_type": "code",
      "source": [
        "h = hashlib.md5()\n",
        "h.update(bytes(txt, encoding = \"utf-8\"))\n",
        "inicio = time.time()\n",
        "print('MD5: ',h.hexdigest())\n",
        "fin = time.time()\n",
        "print('Cifrado del archivo: ',fin-inicio)"
      ],
      "metadata": {
        "colab": {
          "base_uri": "https://localhost:8080/"
        },
        "id": "a7qNgThmydri",
        "outputId": "a6727051-e335-41aa-ddb7-4bbfb601a06b"
      },
      "execution_count": 26,
      "outputs": [
        {
          "output_type": "stream",
          "name": "stdout",
          "text": [
            "MD5:  0f268ea16ecdcc43ee493f47f696c2fd\n",
            "Cifrado del archivo:  0.00017786026000976562\n"
          ]
        }
      ]
    }
  ]
}